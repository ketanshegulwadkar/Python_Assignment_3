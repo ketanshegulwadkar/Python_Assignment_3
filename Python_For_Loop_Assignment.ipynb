{
 "cells": [
  {
   "cell_type": "raw",
   "id": "477053b7-5531-4972-b4ea-419f016afa30",
   "metadata": {},
   "source": [
    "                                                                        PYTHON FOR_LOOP ASSIGNMENT"
   ]
  },
  {
   "cell_type": "raw",
   "id": "bbec6673-a15b-414d-beba-868bb4dd57bb",
   "metadata": {},
   "source": [
    "> Basic Level:"
   ]
  },
  {
   "cell_type": "code",
   "execution_count": 3,
   "id": "986a5947-c137-4320-acca-c0c2098550c9",
   "metadata": {},
   "outputs": [
    {
     "name": "stdout",
     "output_type": "stream",
     "text": [
      "1\n",
      "2\n",
      "3\n",
      "4\n",
      "5\n",
      "6\n",
      "7\n",
      "8\n",
      "9\n",
      "10\n"
     ]
    }
   ],
   "source": [
    "'''1. Write a Python program to print the numbers from 1 to 10 using a `for` loop.'''\n",
    "\n",
    "# using For_Loop\n",
    "for number in range(1, 11):\n",
    "\n",
    "# Display Result\n",
    "    print(number)  "
   ]
  },
  {
   "cell_type": "code",
   "execution_count": 4,
   "id": "174deb5e-c2c2-4c10-8149-9e7247b0f4ac",
   "metadata": {},
   "outputs": [
    {
     "name": "stdout",
     "output_type": "stream",
     "text": [
      "Sum of the numbers: 55\n"
     ]
    }
   ],
   "source": [
    "'''2. Create a program that calculates the sum of all numbers in a list using a `for` loop.'''\n",
    "\n",
    "# Define a list of numbers\n",
    "numbers = [1, 2, 3, 4, 5, 6, 7, 8, 9, 10]\n",
    "\n",
    "# Initialize a variable to store the sum\n",
    "sum_of_numbers = 0\n",
    "\n",
    "# Iterate over each number in the list\n",
    "for number in numbers:\n",
    "    # Add the current number to the sum\n",
    "    sum_of_numbers += number\n",
    "\n",
    "# Print the result\n",
    "print(\"Sum of the numbers:\", sum_of_numbers)"
   ]
  },
  {
   "cell_type": "code",
   "execution_count": 1,
   "id": "ec22ba69-0944-436b-91a2-fc4f9a18926c",
   "metadata": {},
   "outputs": [
    {
     "name": "stdout",
     "output_type": "stream",
     "text": [
      "!dlroW ,olleH"
     ]
    }
   ],
   "source": [
    "'''3. Write a program to print the characters of a string in reverse order using a `for` loop.'''\n",
    "\n",
    "# Input string\n",
    "input_string = \"Hello, World!\"\n",
    "\n",
    "# Iterate over each character in reverse order\n",
    "for char in reversed(input_string):\n",
    "    print(char, end=\"\")"
   ]
  },
  {
   "cell_type": "code",
   "execution_count": 2,
   "id": "46a7945a-17fa-4f12-b90e-15f990887afd",
   "metadata": {},
   "outputs": [
    {
     "name": "stdout",
     "output_type": "stream",
     "text": [
      "The factorial of 5 is: 120\n"
     ]
    }
   ],
   "source": [
    "'''4. Develop a program that finds the factorial of a given number using a `for` loop.'''\n",
    "\n",
    "# Function to calculate factorial\n",
    "def calculate_factorial(number):\n",
    "    factorial = 1\n",
    "\n",
    "    # Check if the number is negative, zero, or positive\n",
    "    if number < 0:\n",
    "        print(\"Factorial is not defined for negative numbers.\")\n",
    "    elif number == 0:\n",
    "        print(\"Factorial of 0 is 1.\")\n",
    "    else:\n",
    "        # Iterate from 1 to the given number and multiply to calculate factorial\n",
    "        for i in range(1, number + 1):\n",
    "            factorial *= i\n",
    "\n",
    "        # Print the result\n",
    "        print(f\"The factorial of {number} is: {factorial}\")\n",
    "\n",
    "# Input: Change the value of num to find the factorial for a different number\n",
    "num = 5\n",
    "\n",
    "# Call the function to calculate factorial\n",
    "calculate_factorial(num)"
   ]
  },
  {
   "cell_type": "code",
   "execution_count": 3,
   "id": "ef3e7534-2bcd-4380-bfc6-0deddcbc553d",
   "metadata": {},
   "outputs": [
    {
     "name": "stdout",
     "output_type": "stream",
     "text": [
      "Multiplication Table for 7:\n",
      "7 * 1 = 7\n",
      "7 * 2 = 14\n",
      "7 * 3 = 21\n",
      "7 * 4 = 28\n",
      "7 * 5 = 35\n",
      "7 * 6 = 42\n",
      "7 * 7 = 49\n",
      "7 * 8 = 56\n",
      "7 * 9 = 63\n",
      "7 * 10 = 70\n"
     ]
    }
   ],
   "source": [
    "'''5. Create a program to print the multiplication table of a given number using a `for` loop.'''\n",
    "\n",
    "# Function to print the multiplication table\n",
    "def print_multiplication_table(number):\n",
    "    print(f\"Multiplication Table for {number}:\")\n",
    "\n",
    "    # Iterate from 1 to 10 and print the multiplication result\n",
    "    for i in range(1, 11):\n",
    "        result = number * i\n",
    "        print(f\"{number} * {i} = {result}\")\n",
    "\n",
    "# Input: Change the value of num to get the multiplication table for a different number\n",
    "num = 7\n",
    "\n",
    "# Call the function to print the multiplication table\n",
    "print_multiplication_table(num)"
   ]
  },
  {
   "cell_type": "code",
   "execution_count": 4,
   "id": "cf3dd4f2-9967-4be9-a22f-8c0dc5a516d0",
   "metadata": {},
   "outputs": [
    {
     "name": "stdout",
     "output_type": "stream",
     "text": [
      "Number of even numbers: 5\n",
      "Number of odd numbers: 5\n"
     ]
    }
   ],
   "source": [
    "'''6. Write a program that counts the number of even and odd numbers in a list using a `for` loop.'''\n",
    "\n",
    "# Function to count even and odd numbers\n",
    "def count_even_odd(numbers):\n",
    "    even_count = 0\n",
    "    odd_count = 0\n",
    "\n",
    "    # Iterate over each number in the list\n",
    "    for number in numbers:\n",
    "        if number % 2 == 0:\n",
    "            even_count += 1\n",
    "        else:\n",
    "            odd_count += 1\n",
    "\n",
    "    # Print the results\n",
    "    print(\"Number of even numbers:\", even_count)\n",
    "    print(\"Number of odd numbers:\", odd_count)\n",
    "\n",
    "# Input list of numbers\n",
    "number_list = [1, 2, 3, 4, 5, 6, 7, 8, 9, 10]\n",
    "\n",
    "# Call the function to count even and odd numbers\n",
    "count_even_odd(number_list)\n",
    "\n"
   ]
  },
  {
   "cell_type": "code",
   "execution_count": 5,
   "id": "9efa7ffd-b7fa-46a9-89ed-4ed7e67cbb83",
   "metadata": {},
   "outputs": [
    {
     "name": "stdout",
     "output_type": "stream",
     "text": [
      "The square of 1 is: 1\n",
      "The square of 2 is: 4\n",
      "The square of 3 is: 9\n",
      "The square of 4 is: 16\n",
      "The square of 5 is: 25\n"
     ]
    }
   ],
   "source": [
    "'''7. Develop a program that prints the squares of numbers from 1 to 5 using a `for` loop.'''\n",
    "\n",
    "# Iterate from 1 to 5 and print the squares\n",
    "for number in range(1, 6):\n",
    "    square = number ** 2\n",
    "    print(f\"The square of {number} is: {square}\")\n",
    "\n"
   ]
  },
  {
   "cell_type": "code",
   "execution_count": 6,
   "id": "6c43bda8-acc7-48c1-9749-806c05437c1d",
   "metadata": {},
   "outputs": [
    {
     "name": "stdout",
     "output_type": "stream",
     "text": [
      "The length of the string 'Hello, World!' is: 13\n"
     ]
    }
   ],
   "source": [
    "'''8. Create a program to find the length of a string without using the `len()` function.'''\n",
    "\n",
    "# Function to find the length of a string\n",
    "def calculate_string_length(input_string):\n",
    "    length = 0\n",
    "\n",
    "    # Iterate over each character in the string\n",
    "    for char in input_string:\n",
    "        length += 1\n",
    "\n",
    "    return length\n",
    "\n",
    "# Input: Change the value of input_str to the desired string\n",
    "input_str = \"Hello, World!\"\n",
    "\n",
    "# Call the function to find the length of the string\n",
    "result_length = calculate_string_length(input_str)\n",
    "\n",
    "# Print the result\n",
    "print(f\"The length of the string '{input_str}' is: {result_length}\")\n",
    "\n"
   ]
  },
  {
   "cell_type": "code",
   "execution_count": 7,
   "id": "10ee653b-0767-4376-b321-64347994456d",
   "metadata": {},
   "outputs": [
    {
     "name": "stdout",
     "output_type": "stream",
     "text": [
      "The average is: 15.0\n"
     ]
    }
   ],
   "source": [
    "'''9. Write a program that calculates the average of a list of numbers using a `for` loop.'''\n",
    "\n",
    "\n",
    "# Function to calculate the average of a list of numbers\n",
    "def calculate_average(numbers):\n",
    "    # Check if the list is not empty\n",
    "    if not numbers:\n",
    "        print(\"Cannot calculate average for an empty list.\")\n",
    "        return\n",
    "\n",
    "    # Initialize variables\n",
    "    total_sum = 0\n",
    "    count = 0\n",
    "\n",
    "    # Iterate over each number in the list\n",
    "    for number in numbers:\n",
    "        total_sum += number\n",
    "        count += 1\n",
    "\n",
    "    # Calculate and print the average\n",
    "    average = total_sum / count\n",
    "    print(f\"The average is: {average}\")\n",
    "\n",
    "# Input: Change the values of num_list to the desired list of numbers\n",
    "num_list = [5, 10, 15, 20, 25]\n",
    "\n",
    "# Call the function to calculate the average\n",
    "calculate_average(num_list)"
   ]
  },
  {
   "cell_type": "code",
   "execution_count": 8,
   "id": "684917fe-645a-45c8-9fc0-e1bef7374303",
   "metadata": {},
   "outputs": [
    {
     "name": "stdout",
     "output_type": "stream",
     "text": [
      "First 10 Fibonacci numbers: [0, 1, 1, 2, 3, 5, 8, 13, 21, 34]\n"
     ]
    }
   ],
   "source": [
    "'''10. Develop a program that prints the first `n` Fibonacci numbers using a `for` loop.'''\n",
    "\n",
    "# Function to generate and print the first n Fibonacci numbers\n",
    "def print_fibonacci_numbers(n):\n",
    "    fibonacci_numbers = [0, 1]\n",
    "\n",
    "    # Check if n is less than or equal to 0\n",
    "    if n <= 0:\n",
    "        print(\"Please enter a positive integer.\")\n",
    "        return\n",
    "    # Check if n is 1\n",
    "    elif n == 1:\n",
    "        print(\"First Fibonacci number:\", fibonacci_numbers[0])\n",
    "        return\n",
    "    # Check if n is 2\n",
    "    elif n == 2:\n",
    "        print(\"First two Fibonacci numbers:\", fibonacci_numbers)\n",
    "        return\n",
    "\n",
    "    # Generate the rest of the Fibonacci numbers using a for loop\n",
    "    for _ in range(2, n):\n",
    "        next_number = fibonacci_numbers[-1] + fibonacci_numbers[-2]\n",
    "        fibonacci_numbers.append(next_number)\n",
    "\n",
    "    # Print the generated Fibonacci numbers\n",
    "    print(f\"First {n} Fibonacci numbers:\", fibonacci_numbers)\n",
    "\n",
    "# Input: Change the value of num to the desired number of Fibonacci numbers\n",
    "num = 10\n",
    "\n",
    "# Call the function to print the first n Fibonacci numbers\n",
    "print_fibonacci_numbers(num)"
   ]
  },
  {
   "cell_type": "raw",
   "id": "f966c891-8272-4d86-9d0a-4b5594814727",
   "metadata": {},
   "source": [
    "> Intermediate Level:"
   ]
  },
  {
   "cell_type": "code",
   "execution_count": 9,
   "id": "9d406043-67b1-486b-95e1-21938d9fa7a0",
   "metadata": {},
   "outputs": [
    {
     "name": "stdout",
     "output_type": "stream",
     "text": [
      "The list does not contain duplicates.\n"
     ]
    }
   ],
   "source": [
    "'''11. Write a program to check if a given list contains any duplicates using a `for` loop.'''\n",
    "\n",
    "# Function to check for duplicates in a list\n",
    "def has_duplicates(input_list):\n",
    "    seen = set()\n",
    "\n",
    "    for item in input_list:\n",
    "        if item in seen:\n",
    "            return True\n",
    "        seen.add(item)\n",
    "\n",
    "    return False\n",
    "\n",
    "# Input: Change the values of num_list to the desired list\n",
    "num_list = [1, 2, 3, 4, 5, 6, 7, 8, 9, 10]\n",
    "\n",
    "# Call the function to check for duplicates\n",
    "if has_duplicates(num_list):\n",
    "    print(\"The list contains duplicates.\")\n",
    "else:\n",
    "    print(\"The list does not contain duplicates.\")"
   ]
  },
  {
   "cell_type": "code",
   "execution_count": 12,
   "id": "8c4d1ed7-a51a-472c-b114-14502d29d6b7",
   "metadata": {},
   "outputs": [
    {
     "name": "stdout",
     "output_type": "stream",
     "text": [
      "Prime numbers in the range 2 to 20:\n",
      "2 3 5 7 11 13 17 19 "
     ]
    }
   ],
   "source": [
    "'''12. Create a program that prints the prime numbers in a given range using a `for` loop.'''\n",
    "\n",
    "# Function to check if a number is prime\n",
    "'''def is_prime(num):\n",
    "    if num < 2:\n",
    "        return False\n",
    "    for i in range(2, int(num**0.5) + 1):\n",
    "        if num % i == 0:\n",
    "            return False\n",
    "    return True'''\n",
    "\n",
    "# Function to print prime numbers in a given range\n",
    "def print_primes_in_range(start, end):\n",
    "    print(f\"Prime numbers in the range {start} to {end}:\")\n",
    "\n",
    "    for number in range(start, end + 1):\n",
    "        if is_prime(number):\n",
    "            print(number, end=\" \")\n",
    "\n",
    "# Input: Change the values of start_num and end_num to the desired range\n",
    "start_num = 2\n",
    "end_num = 20\n",
    "\n",
    "# Call the function to print prime numbers in the given range\n",
    "print_primes_in_range(start_num, end_num)"
   ]
  },
  {
   "cell_type": "code",
   "execution_count": 13,
   "id": "88a082d4-a1d8-46ac-8245-612bd069ab17",
   "metadata": {},
   "outputs": [
    {
     "name": "stdout",
     "output_type": "stream",
     "text": [
      "The number of vowels in the string 'Hello, World!' is: 3\n"
     ]
    }
   ],
   "source": [
    "'''13. Develop a program that counts the number of vowels in a string using a `for` loop.'''\n",
    "\n",
    "# Function to count vowels in a string\n",
    "def count_vowels(input_string):\n",
    "    vowels = \"aeiouAEIOU\"\n",
    "    vowel_count = 0\n",
    "\n",
    "    for char in input_string:\n",
    "        if char in vowels:\n",
    "            vowel_count += 1\n",
    "\n",
    "    return vowel_count\n",
    "\n",
    "# Input: Change the value of input_str to the desired string\n",
    "input_str = \"Hello, World!\"\n",
    "\n",
    "# Call the function to count vowels\n",
    "result_count = count_vowels(input_str)\n",
    "\n",
    "# Print the result\n",
    "print(f\"The number of vowels in the string '{input_str}' is: {result_count}\")"
   ]
  },
  {
   "cell_type": "code",
   "execution_count": 14,
   "id": "82ced411-09fb-471f-a0c4-d3192317e0c2",
   "metadata": {},
   "outputs": [
    {
     "name": "stdout",
     "output_type": "stream",
     "text": [
      "The maximum element in the matrix is: 9\n"
     ]
    }
   ],
   "source": [
    "'''14. Write a program to find the maximum element in a 2D list using a nested `for` loop.'''\n",
    "\n",
    "# Function to find the maximum element in a 2D list\n",
    "def find_max_element(matrix):\n",
    "    if not matrix or not matrix[0]:\n",
    "        print(\"Empty matrix\")\n",
    "        return None\n",
    "\n",
    "    max_element = matrix[0][0]\n",
    "\n",
    "    for row in matrix:\n",
    "        for element in row:\n",
    "            if element > max_element:\n",
    "                max_element = element\n",
    "\n",
    "    return max_element\n",
    "\n",
    "# Input: Change the values of the matrix to the desired 2D list\n",
    "matrix = [\n",
    "    [3, 7, 1],\n",
    "    [2, 9, 5],\n",
    "    [8, 4, 6]\n",
    "]\n",
    "\n",
    "# Call the function to find the maximum element\n",
    "max_element = find_max_element(matrix)\n",
    "\n",
    "# Print the result\n",
    "if max_element is not None:\n",
    "    print(f\"The maximum element in the matrix is: {max_element}\")"
   ]
  },
  {
   "cell_type": "code",
   "execution_count": 15,
   "id": "722c33fc-9993-4630-8c77-78e2397c4e8c",
   "metadata": {},
   "outputs": [
    {
     "name": "stdout",
     "output_type": "stream",
     "text": [
      "Original List: [1, 2, 3, 4, 2, 5, 2, 6]\n",
      "Updated List after removing 2: [1, 3, 4, 5, 6]\n"
     ]
    }
   ],
   "source": [
    "'''15. Create a program that removes all occurrences of a specific element from a list using a `for` loop.'''\n",
    "\n",
    "# Function to remove all occurrences of a specific element from a list\n",
    "def remove_element(lst, target):\n",
    "    updated_list = [item for item in lst if item != target]\n",
    "    return updated_list\n",
    "\n",
    "# Input: Change the values of the list and target element\n",
    "original_list = [1, 2, 3, 4, 2, 5, 2, 6]\n",
    "target_element = 2\n",
    "\n",
    "# Call the function to remove all occurrences of the target element\n",
    "updated_list = remove_element(original_list, target_element)\n",
    "\n",
    "# Print the result\n",
    "print(f\"Original List: {original_list}\")\n",
    "print(f\"Updated List after removing {target_element}: {updated_list}\")"
   ]
  },
  {
   "cell_type": "code",
   "execution_count": 16,
   "id": "39c74b92-f920-47b0-9d29-0c870e1bd3d8",
   "metadata": {},
   "outputs": [
    {
     "name": "stdout",
     "output_type": "stream",
     "text": [
      "\n",
      "Multiplication Table for 1:\n",
      "1 * 1 = 1\n",
      "1 * 2 = 2\n",
      "1 * 3 = 3\n",
      "1 * 4 = 4\n",
      "1 * 5 = 5\n",
      "1 * 6 = 6\n",
      "1 * 7 = 7\n",
      "1 * 8 = 8\n",
      "1 * 9 = 9\n",
      "1 * 10 = 10\n",
      "\n",
      "Multiplication Table for 2:\n",
      "2 * 1 = 2\n",
      "2 * 2 = 4\n",
      "2 * 3 = 6\n",
      "2 * 4 = 8\n",
      "2 * 5 = 10\n",
      "2 * 6 = 12\n",
      "2 * 7 = 14\n",
      "2 * 8 = 16\n",
      "2 * 9 = 18\n",
      "2 * 10 = 20\n",
      "\n",
      "Multiplication Table for 3:\n",
      "3 * 1 = 3\n",
      "3 * 2 = 6\n",
      "3 * 3 = 9\n",
      "3 * 4 = 12\n",
      "3 * 5 = 15\n",
      "3 * 6 = 18\n",
      "3 * 7 = 21\n",
      "3 * 8 = 24\n",
      "3 * 9 = 27\n",
      "3 * 10 = 30\n",
      "\n",
      "Multiplication Table for 4:\n",
      "4 * 1 = 4\n",
      "4 * 2 = 8\n",
      "4 * 3 = 12\n",
      "4 * 4 = 16\n",
      "4 * 5 = 20\n",
      "4 * 6 = 24\n",
      "4 * 7 = 28\n",
      "4 * 8 = 32\n",
      "4 * 9 = 36\n",
      "4 * 10 = 40\n",
      "\n",
      "Multiplication Table for 5:\n",
      "5 * 1 = 5\n",
      "5 * 2 = 10\n",
      "5 * 3 = 15\n",
      "5 * 4 = 20\n",
      "5 * 5 = 25\n",
      "5 * 6 = 30\n",
      "5 * 7 = 35\n",
      "5 * 8 = 40\n",
      "5 * 9 = 45\n",
      "5 * 10 = 50\n"
     ]
    }
   ],
   "source": [
    "'''16. Develop a program that generates a multiplication table for numbers from 1 to 5 using a nested `for` loop.'''\n",
    "\n",
    "# Function to generate and print a multiplication table\n",
    "def print_multiplication_table():\n",
    "    for i in range(1, 6):\n",
    "        print(f\"\\nMultiplication Table for {i}:\")\n",
    "\n",
    "        for j in range(1, 11):\n",
    "            result = i * j\n",
    "            print(f\"{i} * {j} = {result}\")\n",
    "\n",
    "# Call the function to print the multiplication table\n",
    "print_multiplication_table()"
   ]
  },
  {
   "cell_type": "code",
   "execution_count": 17,
   "id": "01ea8f6b-d2ce-4cdf-8f0b-2dd8385d34d4",
   "metadata": {},
   "outputs": [
    {
     "name": "stdout",
     "output_type": "stream",
     "text": [
      "Fahrenheit Temperatures: [32, 50, 68, 86, 104]\n",
      "Celsius Temperatures: [0.0, 10.0, 20.0, 30.0, 40.0]\n"
     ]
    }
   ],
   "source": [
    "'''17. Write a program that converts a list of Fahrenheit temperatures to Celsius using a `for` loop.'''\n",
    "\n",
    "# Function to convert Fahrenheit to Celsius\n",
    "def fahrenheit_to_celsius(fahrenheit):\n",
    "    return (fahrenheit - 32) * 5/9\n",
    "\n",
    "# Function to convert a list of Fahrenheit temperatures to Celsius\n",
    "def convert_to_celsius(fahrenheit_list):\n",
    "    celsius_list = [fahrenheit_to_celsius(temp) for temp in fahrenheit_list]\n",
    "    return celsius_list\n",
    "\n",
    "# Input: Change the values of fahrenheit_temps to the desired list of Fahrenheit temperatures\n",
    "fahrenheit_temps = [32, 50, 68, 86, 104]\n",
    "\n",
    "# Call the function to convert Fahrenheit temperatures to Celsius\n",
    "celsius_temps = convert_to_celsius(fahrenheit_temps)\n",
    "\n",
    "# Print the results\n",
    "print(\"Fahrenheit Temperatures:\", fahrenheit_temps)\n",
    "print(\"Celsius Temperatures:\", celsius_temps)"
   ]
  },
  {
   "cell_type": "code",
   "execution_count": 18,
   "id": "103b8901-c086-4d8e-b931-8652b7e506cc",
   "metadata": {},
   "outputs": [
    {
     "name": "stdout",
     "output_type": "stream",
     "text": [
      "List 1: [1, 2, 3, 4, 5]\n",
      "List 2: [3, 4, 5, 6, 7]\n",
      "Common Elements: [3, 4, 5]\n"
     ]
    }
   ],
   "source": [
    "'''18. Create a program to print the common elements from two lists using a `for` loop.'''\n",
    "\n",
    "# Function to find and print common elements in two lists\n",
    "def find_common_elements(list1, list2):\n",
    "    common_elements = []\n",
    "\n",
    "    for element in list1:\n",
    "        if element in list2 and element not in common_elements:\n",
    "            common_elements.append(element)\n",
    "\n",
    "    return common_elements\n",
    "\n",
    "# Input: Change the values of list1 and list2 to the desired lists\n",
    "list1 = [1, 2, 3, 4, 5]\n",
    "list2 = [3, 4, 5, 6, 7]\n",
    "\n",
    "# Call the function to find common elements\n",
    "common_elements = find_common_elements(list1, list2)\n",
    "\n",
    "# Print the results\n",
    "print(\"List 1:\", list1)\n",
    "print(\"List 2:\", list2)\n",
    "print(\"Common Elements:\", common_elements)\n",
    "\n"
   ]
  },
  {
   "cell_type": "code",
   "execution_count": 19,
   "id": "cc69b227-68e1-40b4-aa37-52db12bc3caf",
   "metadata": {},
   "outputs": [
    {
     "name": "stdout",
     "output_type": "stream",
     "text": [
      "* \n",
      "* * \n",
      "* * * \n",
      "* * * * \n",
      "* * * * * \n"
     ]
    }
   ],
   "source": [
    "'''19. Develop a program that prints the pattern of right-angled triangles using a `for` loop. Use ‘*’ to draw the pattern'''\n",
    "\n",
    "# Function to print the pattern of right-angled triangles\n",
    "def print_right_angled_triangles(rows):\n",
    "    for i in range(1, rows + 1):\n",
    "        for j in range(1, i + 1):\n",
    "            print(\"*\", end=\" \")\n",
    "        print()\n",
    "\n",
    "# Input: Change the value of num_rows to the desired number of rows\n",
    "num_rows = 5\n",
    "\n",
    "# Call the function to print the pattern\n",
    "print_right_angled_triangles(num_rows)"
   ]
  },
  {
   "cell_type": "code",
   "execution_count": 20,
   "id": "ff18c1af-b10c-456b-aa6a-7baf26c6ca37",
   "metadata": {},
   "outputs": [
    {
     "name": "stdout",
     "output_type": "stream",
     "text": [
      "The GCD of 48 and 18 is: 6\n"
     ]
    }
   ],
   "source": [
    "'''20. Write a program to find the greatest common divisor (GCD) of two numbers using a `for` loop.'''\n",
    "\n",
    "# Function to find the GCD of two numbers\n",
    "def find_gcd(num1, num2):\n",
    "    # Find the smaller of the two numbers\n",
    "    smaller = min(num1, num2)\n",
    "\n",
    "    # Initialize GCD to 1 (minimum possible GCD)\n",
    "    gcd = 1\n",
    "\n",
    "    # Iterate from 1 to the smaller of the two numbers\n",
    "    for i in range(1, smaller + 1):\n",
    "        # Check if both numbers are divisible by the current iteration\n",
    "        if num1 % i == 0 and num2 % i == 0:\n",
    "            # Update the GCD\n",
    "            gcd = i\n",
    "\n",
    "    return gcd\n",
    "\n",
    "# Input: Change the values of num1 and num2 to the desired numbers\n",
    "num1 = 48\n",
    "num2 = 18\n",
    "\n",
    "# Call the function to find the GCD\n",
    "result_gcd = find_gcd(num1, num2)\n",
    "\n",
    "# Print the result\n",
    "print(f\"The GCD of {num1} and {num2} is: {result_gcd}\")"
   ]
  },
  {
   "cell_type": "raw",
   "id": "dfe8a26d-40e5-48d0-a8c6-c7765aea8b75",
   "metadata": {},
   "source": [
    "> Advanced Level:"
   ]
  },
  {
   "cell_type": "code",
   "execution_count": 1,
   "id": "58d867eb-1a4a-4987-bfba-5e48de35a87c",
   "metadata": {},
   "outputs": [
    {
     "name": "stdout",
     "output_type": "stream",
     "text": [
      "Original List: [123, 456, 789]\n",
      "Sum of Digits List: [6, 15, 24]\n"
     ]
    }
   ],
   "source": [
    "'''21. Create a program that calculates the sum of the digits of numbers in a list using a list comprehension.'''\n",
    "\n",
    "# Function to calculate the sum of digits in a number\n",
    "def sum_of_digits(number):\n",
    "    return sum(int(digit) for digit in str(abs(number)))\n",
    "\n",
    "# Function to calculate the sum of digits for each number in a list\n",
    "def sum_of_digits_in_list(number_list):\n",
    "    return [sum_of_digits(num) for num in number_list]\n",
    "\n",
    "# Input: Change the values of num_list to the desired list of numbers\n",
    "num_list = [123, 456, 789]\n",
    "\n",
    "# Call the function to calculate the sum of digits for each number in the list\n",
    "sum_of_digits_list = sum_of_digits_in_list(num_list)\n",
    "\n",
    "# Print the results\n",
    "print(\"Original List:\", num_list)\n",
    "print(\"Sum of Digits List:\", sum_of_digits_list)"
   ]
  },
  {
   "cell_type": "code",
   "execution_count": 2,
   "id": "4da1b7c8-2870-4eff-8acc-0f772aba15b1",
   "metadata": {},
   "outputs": [
    {
     "name": "stdout",
     "output_type": "stream",
     "text": [
      "The prime factors of 56 are: [2, 7]\n"
     ]
    }
   ],
   "source": [
    "'''22. Write a program to find the prime factors of a given number using a `for` loop and list comprehension.'''\n",
    "\n",
    "# Function to find prime factors of a number\n",
    "def prime_factors(n):\n",
    "    factors = [factor for factor in range(2, n + 1) if n % factor == 0 and all(factor % i != 0 for i in range(2, int(factor**0.5) + 1))]\n",
    "    return factors\n",
    "\n",
    "# Input: Change the value of num to the desired number\n",
    "num = 56\n",
    "\n",
    "# Call the function to find prime factors\n",
    "factors_list = prime_factors(num)\n",
    "\n",
    "# Print the result\n",
    "print(f\"The prime factors of {num} are: {factors_list}\")"
   ]
  },
  {
   "cell_type": "code",
   "execution_count": 3,
   "id": "a41a6a3c-7c09-4065-aa96-d025c0f46c89",
   "metadata": {},
   "outputs": [
    {
     "name": "stdout",
     "output_type": "stream",
     "text": [
      "Original List: [1, 2, 3, 2, 4, 5, 6, 5, 7, 8, 9, 1]\n",
      "Unique Elements List: [1, 2, 3, 4, 5, 6, 7, 8, 9]\n"
     ]
    }
   ],
   "source": [
    "'''23. Develop a program that extracts unique elements from a list and stores them in a new list using a list\n",
    "comprehension.'''\n",
    "\n",
    "# Function to extract unique elements from a list\n",
    "def extract_unique_elements(input_list):\n",
    "    return list(set(input_list))\n",
    "\n",
    "# Input: Change the values of original_list to the desired list\n",
    "original_list = [1, 2, 3, 2, 4, 5, 6, 5, 7, 8, 9, 1]\n",
    "\n",
    "# Call the function to extract unique elements\n",
    "unique_elements_list = extract_unique_elements(original_list)\n",
    "\n",
    "# Print the results\n",
    "print(\"Original List:\", original_list)\n",
    "print(\"Unique Elements List:\", unique_elements_list)"
   ]
  },
  {
   "cell_type": "code",
   "execution_count": 5,
   "id": "ba099e60-dfdf-4fdf-9b87-0fd83a16bc4e",
   "metadata": {},
   "outputs": [
    {
     "name": "stdout",
     "output_type": "stream",
     "text": [
      "Palindromic Numbers up to 100: [0, 1, 2, 3, 4, 5, 6, 7, 8, 9, 11, 22, 33, 44, 55, 66, 77, 88, 99]\n"
     ]
    }
   ],
   "source": [
    "'''24. Create a program that generates a list of all palindromic numbers up to a specified limit using a list\n",
    "comprehension.'''\n",
    "\n",
    "# Function to check if a number is palindromic\n",
    "def is_palindromic(number):\n",
    "    return str(number) == str(number)[::-1]\n",
    "\n",
    "# Function to generate a list of palindromic numbers up to a limit\n",
    "def generate_palindromic_numbers(limit):\n",
    "    return [num for num in range(limit + 1) if is_palindromic(num)]\n",
    "\n",
    "# Input: Change the value of limit to the desired limit\n",
    "limit = 100\n",
    "\n",
    "# Call the function to generate palindromic numbers\n",
    "palindromic_numbers = generate_palindromic_numbers(limit)\n",
    "\n",
    "# Print the result\n",
    "print(f\"Palindromic Numbers up to {limit}: {palindromic_numbers}\")"
   ]
  },
  {
   "cell_type": "code",
   "execution_count": 6,
   "id": "0ca2ae22-a263-4e55-8aba-92f5ae7d23e8",
   "metadata": {},
   "outputs": [
    {
     "name": "stdout",
     "output_type": "stream",
     "text": [
      "Nested List: [1, [2, 3, [4, 5]], 6, [7, 8], [9, [10, 11]]]\n",
      "Flattened List: [1, 2, 3, [4, 5], 6, 7, 8, 9, [10, 11]]\n"
     ]
    }
   ],
   "source": [
    "'''25. Write a program to flatten a nested list using list comprehension'''\n",
    "\n",
    "# Function to flatten a nested list using list comprehension\n",
    "def flatten_nested_list(nested_list):\n",
    "    return [item for sublist in nested_list for item in (sublist if isinstance(sublist, list) else [sublist])]\n",
    "\n",
    "# Input: Change the values of nested_list to the desired nested list\n",
    "nested_list = [1, [2, 3, [4, 5]], 6, [7, 8], [9, [10, 11]]]\n",
    "\n",
    "# Call the function to flatten the nested list\n",
    "flattened_list = flatten_nested_list(nested_list)\n",
    "\n",
    "# Print the results\n",
    "print(\"Nested List:\", nested_list)\n",
    "print(\"Flattened List:\", flattened_list)"
   ]
  },
  {
   "cell_type": "code",
   "execution_count": 7,
   "id": "dd82f288-df10-4aa0-8dfd-8f526a86a4ba",
   "metadata": {},
   "outputs": [
    {
     "name": "stdout",
     "output_type": "stream",
     "text": [
      "Original List: [1, 2, 3, 4, 5, 6, 7, 8, 9]\n",
      "Sum of Even Numbers: 20\n",
      "Sum of Odd Numbers: 25\n"
     ]
    }
   ],
   "source": [
    "'''26. Develop a program that computes the sum of even and odd numbers in a list separately using list comprehension'''\n",
    "\n",
    "# Function to compute the sum of even and odd numbers in a list\n",
    "def compute_even_odd_sums(number_list):\n",
    "    even_sum = sum(num for num in number_list if num % 2 == 0)\n",
    "    odd_sum = sum(num for num in number_list if num % 2 != 0)\n",
    "    return even_sum, odd_sum\n",
    "\n",
    "# Input: Change the values of num_list to the desired list of numbers\n",
    "num_list = [1, 2, 3, 4, 5, 6, 7, 8, 9]\n",
    "\n",
    "# Call the function to compute even and odd sums\n",
    "even_sum, odd_sum = compute_even_odd_sums(num_list)\n",
    "\n",
    "# Print the results\n",
    "print(\"Original List:\", num_list)\n",
    "print(\"Sum of Even Numbers:\", even_sum)\n",
    "print(\"Sum of Odd Numbers:\", odd_sum)"
   ]
  },
  {
   "cell_type": "code",
   "execution_count": 8,
   "id": "fc7797d9-4cca-48df-8ba5-1ed15dc8f269",
   "metadata": {},
   "outputs": [
    {
     "name": "stdout",
     "output_type": "stream",
     "text": [
      "Squares of Odd Numbers between 1 and 10: [1, 9, 25, 49, 81]\n"
     ]
    }
   ],
   "source": [
    "'''27. Create a program that generates a list of squares of odd numbers between 1 and 10 using list comprehension.'''\n",
    "\n",
    "# List comprehension to generate squares of odd numbers between 1 and 10\n",
    "squares_of_odd_numbers = [num**2 for num in range(1, 11) if num % 2 != 0]\n",
    "\n",
    "# Print the result\n",
    "print(\"Squares of Odd Numbers between 1 and 10:\", squares_of_odd_numbers)"
   ]
  },
  {
   "cell_type": "code",
   "execution_count": 9,
   "id": "8f01dcc0-f1dd-4039-9f11-f3fc619ea89d",
   "metadata": {},
   "outputs": [
    {
     "name": "stdout",
     "output_type": "stream",
     "text": [
      "List 1: ['name', 'age', 'city']\n",
      "List 2: ['Alice', 25, 'Wonderland']\n",
      "Combined Dictionary: {'name': 'Alice', 'age': 25, 'city': 'Wonderland'}\n"
     ]
    }
   ],
   "source": [
    "'''28. Write a program that combines two lists into a dictionary using list comprehension.'''\n",
    "\n",
    "# Function to combine two lists into a dictionary using list comprehension\n",
    "def lists_to_dictionary(keys, values):\n",
    "    return {key: value for key, value in zip(keys, values)}\n",
    "\n",
    "# Input: Change the values of list1 and list2 to the desired lists\n",
    "list1 = ['name', 'age', 'city']\n",
    "list2 = ['Alice', 25, 'Wonderland']\n",
    "\n",
    "# Call the function to combine lists into a dictionary\n",
    "combined_dict = lists_to_dictionary(list1, list2)\n",
    "\n",
    "# Print the result\n",
    "print(\"List 1:\", list1)\n",
    "print(\"List 2:\", list2)\n",
    "print(\"Combined Dictionary:\", combined_dict)"
   ]
  },
  {
   "cell_type": "code",
   "execution_count": 10,
   "id": "1d1f0c4d-0a15-4a15-bdb9-77e0a16a860e",
   "metadata": {},
   "outputs": [
    {
     "name": "stdout",
     "output_type": "stream",
     "text": [
      "Original String: Hello, World!\n",
      "Vowels List: ['e', 'o', 'o']\n"
     ]
    }
   ],
   "source": [
    "'''29. Develop a program that extracts the vowels from a string and stores them in a list using list comprehension.'''\n",
    "\n",
    "# Function to extract vowels from a string using list comprehension\n",
    "def extract_vowels(input_string):\n",
    "    vowels = ['a', 'e', 'i', 'o', 'u', 'A', 'E', 'I', 'O', 'U']\n",
    "    return [char for char in input_string if char in vowels]\n",
    "\n",
    "# Input: Change the value of input_str to the desired string\n",
    "input_str = \"Hello, World!\"\n",
    "\n",
    "# Call the function to extract vowels\n",
    "vowels_list = extract_vowels(input_str)\n",
    "\n",
    "# Print the results\n",
    "print(\"Original String:\", input_str)\n",
    "print(\"Vowels List:\", vowels_list)"
   ]
  },
  {
   "cell_type": "code",
   "execution_count": 11,
   "id": "9414fcc4-9c4e-4569-b868-d102c23e6049",
   "metadata": {},
   "outputs": [
    {
     "name": "stdout",
     "output_type": "stream",
     "text": [
      "Original Strings: ['abc123', '456def', '789ghi', 'jkl']\n",
      "Numeric Strings: ['123', '456', '789', '']\n"
     ]
    }
   ],
   "source": [
    "'''30. Create a program that removes all non-numeric characters from a list of strings using list comprehension.'''\n",
    "\n",
    "# Function to remove non-numeric characters from a string using list comprehension\n",
    "def remove_non_numeric(strings_list):\n",
    "    return [''.join(char for char in string if char.isdigit()) for string in strings_list]\n",
    "\n",
    "# Input: Change the values of original_strings to the desired list of strings\n",
    "original_strings = ['abc123', '456def', '789ghi', 'jkl']\n",
    "\n",
    "# Call the function to remove non-numeric characters\n",
    "numeric_strings = remove_non_numeric(original_strings)\n",
    "\n",
    "# Print the results\n",
    "print(\"Original Strings:\", original_strings)\n",
    "print(\"Numeric Strings:\", numeric_strings)\n",
    "\n"
   ]
  },
  {
   "cell_type": "raw",
   "id": "91ac3e7f-061e-4991-b28e-9c03370c2f17",
   "metadata": {},
   "source": [
    "> Challenge Level:"
   ]
  },
  {
   "cell_type": "code",
   "execution_count": 12,
   "id": "b86e7c39-efe1-4d91-8825-4d9d5c91fc63",
   "metadata": {},
   "outputs": [
    {
     "name": "stdout",
     "output_type": "stream",
     "text": [
      "Prime Numbers up to 50: [2, 3, 5, 7, 11, 13, 17, 19, 23, 29, 31, 37, 41, 43, 47]\n"
     ]
    }
   ],
   "source": [
    "'''31. Write a program to generate a list of prime numbers using the Sieve of Eratosthenes algorithm and list comprehension.'''\n",
    "\n",
    "def sieve_of_eratosthenes(limit):\n",
    "    # Create a boolean list \"is_prime\" to track prime status\n",
    "    is_prime = [True] * (limit + 1)\n",
    "    \n",
    "    # Mark 0 and 1 as non-prime\n",
    "    is_prime[0] = is_prime[1] = False\n",
    "    \n",
    "    # Perform the Sieve of Eratosthenes algorithm\n",
    "    for num in range(2, int(limit**0.5) + 1):\n",
    "        if is_prime[num]:\n",
    "            is_prime[num*num : limit+1 : num] = [False] * len(is_prime[num*num : limit+1 : num])\n",
    "    \n",
    "    # Use list comprehension to extract prime numbers\n",
    "    primes = [num for num in range(2, limit + 1) if is_prime[num]]\n",
    "    \n",
    "    return primes\n",
    "\n",
    "# Input: Change the value of limit to the desired upper limit\n",
    "limit = 50\n",
    "\n",
    "# Call the function to generate a list of prime numbers\n",
    "prime_numbers = sieve_of_eratosthenes(limit)\n",
    "\n",
    "# Print the result\n",
    "print(f\"Prime Numbers up to {limit}: {prime_numbers}\")"
   ]
  },
  {
   "cell_type": "code",
   "execution_count": 13,
   "id": "3f5db33c-4644-45f0-a9f2-26d38da8f823",
   "metadata": {},
   "outputs": [
    {
     "name": "stdout",
     "output_type": "stream",
     "text": [
      "Pythagorean Triplets up to 20: [(3, 4, 5), (5, 12, 13), (6, 8, 10), (8, 15, 17), (9, 12, 15), (12, 16, 20)]\n"
     ]
    }
   ],
   "source": [
    "'''32. Create a program that generates a list of all Pythagorean triplets up to a specified limit using list comprehension.'''\n",
    "\n",
    "# Function to generate Pythagorean triplets up to a limit\n",
    "def pythagorean_triplets(limit):\n",
    "    return [(a, b, c) for a in range(1, limit + 1) \n",
    "            for b in range(a, limit + 1) \n",
    "            for c in range(b, limit + 1) \n",
    "            if a**2 + b**2 == c**2]\n",
    "\n",
    "# Input: Change the value of limit to the desired upper limit\n",
    "limit = 20\n",
    "\n",
    "# Call the function to generate Pythagorean triplets\n",
    "triplets = pythagorean_triplets(limit)\n",
    "\n",
    "# Print the result\n",
    "print(f\"Pythagorean Triplets up to {limit}: {triplets}\")"
   ]
  },
  {
   "cell_type": "code",
   "execution_count": 14,
   "id": "13e8b0b7-c9e3-4561-8348-97f1cb2e055c",
   "metadata": {},
   "outputs": [
    {
     "name": "stdout",
     "output_type": "stream",
     "text": [
      "List 1: [1, 2, 3]\n",
      "List 2: ['a', 'b', 'c']\n",
      "All Possible Combinations: [(1, 'a'), (1, 'b'), (1, 'c'), (2, 'a'), (2, 'b'), (2, 'c'), (3, 'a'), (3, 'b'), (3, 'c')]\n"
     ]
    }
   ],
   "source": [
    "'''33. Develop a program that generates a list of all possible combinations of two lists using list comprehension.'''\n",
    "\n",
    "# Function to generate all possible combinations of two lists\n",
    "def combine_lists(list1, list2):\n",
    "    return [(item1, item2) for item1 in list1 for item2 in list2]\n",
    "\n",
    "# Input: Change the values of list1 and list2 to the desired lists\n",
    "list1 = [1, 2, 3]\n",
    "list2 = ['a', 'b', 'c']\n",
    "\n",
    "# Call the function to generate combinations\n",
    "combinations = combine_lists(list1, list2)\n",
    "\n",
    "# Print the result\n",
    "print(f\"List 1: {list1}\")\n",
    "print(f\"List 2: {list2}\")\n",
    "print(f\"All Possible Combinations: {combinations}\")\n",
    "\n"
   ]
  },
  {
   "cell_type": "code",
   "execution_count": 43,
   "id": "c8b3832a-647d-4696-b17f-dfab4140c64d",
   "metadata": {},
   "outputs": [
    {
     "name": "stdout",
     "output_type": "stream",
     "text": [
      "Numbers: [1, 2, 3, 4, 5, 5, 6, 6, 6, 7, 8, 8, 9]\n",
      "Mean: 5.384615384615385\n",
      "Median: 6.0\n",
      "Mode: [6]\n"
     ]
    }
   ],
   "source": [
    "'''34. Write a program that calculates the mean, median, and mode of a list of numbers using list comprehension'''\n",
    "\n",
    "from collections import Counter\n",
    "\n",
    "def calculate_mean(numbers):\n",
    "    # Function to calculate the mean of a list of numbers\n",
    "    return sum(numbers) / len(numbers)\n",
    "\n",
    "def calculate_median(numbers):\n",
    "    # Function to calculate the median of a list of numbers\n",
    "    sorted_numbers = sorted(numbers)\n",
    "    mid = len(sorted_numbers) // 2\n",
    "\n",
    "    return (sorted_numbers[mid] + sorted_numbers[~mid]) / 2\n",
    "\n",
    "def calculate_mode(numbers):\n",
    "    # Function to calculate the mode of a list of numbers\n",
    "    counts = Counter(numbers)\n",
    "    max_count = max(counts.values())\n",
    "    mode = [num for num, count in counts.items() if count == max_count]\n",
    "    return mode\n",
    "\n",
    "# Example usage:\n",
    "numbers = [1, 2, 3, 4, 5, 5, 6, 6, 6, 7, 8, 8, 9]\n",
    "mean = calculate_mean(numbers)\n",
    "median = calculate_median(numbers)\n",
    "mode = calculate_mode(numbers)\n",
    "\n",
    "# Display the results\n",
    "print(f\"Numbers: {numbers}\")\n",
    "print(f\"Mean: {mean}\")\n",
    "print(f\"Median: {median}\")\n",
    "print(f\"Mode: {mode}\")"
   ]
  },
  {
   "cell_type": "code",
   "execution_count": 37,
   "id": "79d20feb-03eb-4662-91dc-ffd55a3333f5",
   "metadata": {},
   "outputs": [
    {
     "name": "stdout",
     "output_type": "stream",
     "text": [
      "   1\n",
      "  1 1\n",
      " 1 2 1\n",
      "1 3 3 1\n",
      "1 4 6 4 1\n"
     ]
    }
   ],
   "source": [
    "'''35. Create a program that generates Pascal's triangle up to a specified number of rows using list comprehension.'''\n",
    "\n",
    "def generate_pascals_triangle(num_rows):\n",
    "    # Helper function to calculate the next row of Pascal's Triangle\n",
    "    def calculate_next_row(prev_row):\n",
    "        return [1] + [prev_row[i] + prev_row[i + 1] for i in range(len(prev_row) - 1)] + [1]\n",
    "\n",
    "    # Use list comprehension to generate Pascal's Triangle\n",
    "    triangle = [[1]]\n",
    "    [triangle.append(calculate_next_row(triangle[-1])) for _ in range(num_rows - 1)]\n",
    "\n",
    "    return triangle\n",
    "\n",
    "def display_equilateral_triangle(triangle):\n",
    "    # Display an equilateral triangle using Pascal's Triangle\n",
    "    for row in triangle:\n",
    "        # Print leading spaces to center the triangle\n",
    "        print(\" \" * (len(triangle) - len(row) - 1) + ' '.join(map(str, row)))\n",
    "\n",
    "# Example usage:\n",
    "num_rows = 5\n",
    "pascals_triangle = generate_pascals_triangle(num_rows)\n",
    "\n",
    "# Display the equilateral triangle shape\n",
    "display_equilateral_triangle(pascals_triangle)"
   ]
  },
  {
   "cell_type": "code",
   "execution_count": 38,
   "id": "fa4277d1-409c-4059-a0a2-0d4eeb1316a7",
   "metadata": {},
   "outputs": [
    {
     "name": "stdout",
     "output_type": "stream",
     "text": [
      "The sum of digits of 1! is 1\n",
      "The sum of digits of 2! is 2\n",
      "The sum of digits of 3! is 6\n",
      "The sum of digits of 4! is 6\n",
      "The sum of digits of 5! is 3\n"
     ]
    }
   ],
   "source": [
    "'''36. Develop a program that calculates the sum of the digits of a factorial of numbers from 1 to 5 using list comprehension'''\n",
    "\n",
    "import math\n",
    "\n",
    "def factorial(n):\n",
    "    return math.factorial(n)\n",
    "\n",
    "def sum_of_digits(number):\n",
    "    return sum(int(digit) for digit in str(number))\n",
    "\n",
    "# Calculate the factorial and sum of digits using list comprehension\n",
    "results = [(n, sum_of_digits(factorial(n))) for n in range(1, 6)]\n",
    "\n",
    "# Display the results\n",
    "for n, digit_sum in results:\n",
    "    print(f\"The sum of digits of {n}! is {digit_sum}\")"
   ]
  },
  {
   "cell_type": "code",
   "execution_count": 39,
   "id": "88414d23-d96b-4749-90ac-47b3ce999a21",
   "metadata": {},
   "outputs": [
    {
     "name": "stdout",
     "output_type": "stream",
     "text": [
      "The longest word in the sentence is: quick\n"
     ]
    }
   ],
   "source": [
    "'''37. Write a program that finds the longest word in a sentence using list comprehension.'''\n",
    "\n",
    "def find_longest_word(sentence):\n",
    "    # Split the sentence into words and find the longest word using list comprehension\n",
    "    words = sentence.split()\n",
    "    longest_word = max(words, key=lambda word: len(word))\n",
    "\n",
    "    return longest_word\n",
    "\n",
    "# Example usage:\n",
    "input_sentence = \"The quick brown fox jumps over the lazy dog\"\n",
    "longest_word = find_longest_word(input_sentence)\n",
    "\n",
    "print(f\"The longest word in the sentence is: {longest_word}\")"
   ]
  },
  {
   "cell_type": "code",
   "execution_count": 40,
   "id": "18e4d405-a3c5-433d-b330-586c96c27656",
   "metadata": {},
   "outputs": [
    {
     "name": "stdout",
     "output_type": "stream",
     "text": [
      "Original list: ['hello', 'world', 'programming', 'python', 'example', 'vowels', 'aioli']\n",
      "Filtered list (more than three vowels): ['aioli']\n"
     ]
    }
   ],
   "source": [
    "'''38. Create a program that filters a list of strings to include only those with more than three vowels using list comprehension'''\n",
    "\n",
    "def count_vowels(word):\n",
    "    # Helper function to count vowels in a word\n",
    "    return sum(1 for char in word if char.lower() in 'aeiou')\n",
    "\n",
    "def filter_strings_with_more_than_three_vowels(strings):\n",
    "    # Use list comprehension to filter strings with more than three vowels\n",
    "    result = [word for word in strings if count_vowels(word) > 3]\n",
    "\n",
    "    return result\n",
    "\n",
    "# Example usage:\n",
    "word_list = [\"hello\", \"world\", \"programming\", \"python\", \"example\", \"vowels\", \"aioli\"]\n",
    "filtered_words = filter_strings_with_more_than_three_vowels(word_list)\n",
    "\n",
    "print(f\"Original list: {word_list}\")\n",
    "print(f\"Filtered list (more than three vowels): {filtered_words}\")\n"
   ]
  },
  {
   "cell_type": "code",
   "execution_count": 41,
   "id": "f21a3f5d-7569-421f-99e9-0788e615d326",
   "metadata": {},
   "outputs": [
    {
     "name": "stdout",
     "output_type": "stream",
     "text": [
      "The sum of the digits of numbers from 1 to 1000 is: 13501\n"
     ]
    }
   ],
   "source": [
    "'''39. Develop a program that calculates the sum of the digits of numbers from 1 to 1000 using list comprehension.'''\n",
    "\n",
    "def sum_of_digits(number):\n",
    "    return sum(int(digit) for digit in str(number))\n",
    "\n",
    "# Use list comprehension to calculate the sum of digits for numbers from 1 to 1000\n",
    "sums = [sum_of_digits(n) for n in range(1, 1001)]\n",
    "\n",
    "# Display the results\n",
    "total_sum = sum(sums)\n",
    "print(f\"The sum of the digits of numbers from 1 to 1000 is: {total_sum}\")"
   ]
  },
  {
   "cell_type": "code",
   "execution_count": 42,
   "id": "575a9f1b-38f2-409b-80b9-1ad88fd3619a",
   "metadata": {},
   "outputs": [
    {
     "name": "stdout",
     "output_type": "stream",
     "text": [
      "Prime palindromic numbers: [2, 3, 5, 7, 11, 101, 131, 151, 181, 191, 313, 353, 373, 383, 727, 757, 787, 797, 919, 929]\n"
     ]
    }
   ],
   "source": [
    "'''40. Write a program that generates a list of prime palindromic numbers using list comprehension.'''\n",
    "\n",
    "def is_prime(n):\n",
    "    # Function to check if a number is prime\n",
    "    if n < 2:\n",
    "        return False\n",
    "    for i in range(2, int(n**0.5) + 1):\n",
    "        if n % i == 0:\n",
    "            return False\n",
    "    return True\n",
    "\n",
    "def is_palindrome(number):\n",
    "    # Function to check if a number is a palindrome\n",
    "    return str(number) == str(number)[::-1]\n",
    "\n",
    "# Use list comprehension to generate a list of prime palindromic numbers\n",
    "prime_palindromes = [num for num in range(1, 1000) if is_prime(num) and is_palindrome(num)]\n",
    "\n",
    "# Display the results\n",
    "print(\"Prime palindromic numbers:\", prime_palindromes)"
   ]
  },
  {
   "cell_type": "code",
   "execution_count": null,
   "id": "11dfcf72-f42c-4465-8e24-707427026f15",
   "metadata": {},
   "outputs": [],
   "source": []
  }
 ],
 "metadata": {
  "kernelspec": {
   "display_name": "Python 3 (ipykernel)",
   "language": "python",
   "name": "python3"
  },
  "language_info": {
   "codemirror_mode": {
    "name": "ipython",
    "version": 3
   },
   "file_extension": ".py",
   "mimetype": "text/x-python",
   "name": "python",
   "nbconvert_exporter": "python",
   "pygments_lexer": "ipython3",
   "version": "3.10.8"
  }
 },
 "nbformat": 4,
 "nbformat_minor": 5
}
